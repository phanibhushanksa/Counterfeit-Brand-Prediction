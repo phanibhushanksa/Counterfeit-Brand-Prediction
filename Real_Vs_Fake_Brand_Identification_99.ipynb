{
  "nbformat": 4,
  "nbformat_minor": 0,
  "metadata": {
    "colab": {
      "name": "Real_Vs_Fake_Brand_Identification.ipynb",
      "provenance": [],
      "collapsed_sections": []
    },
    "kernelspec": {
      "name": "python3",
      "display_name": "Python 3"
    },
    "accelerator": "GPU"
  },
  "cells": [
    {
      "cell_type": "code",
      "metadata": {
        "id": "KBoDLlfqlLgT"
      },
      "source": [
        "# Common imports\n",
        "import numpy as np\n",
        "import os\n",
        "import pandas as pd\n",
        "from pathlib import Path\n",
        "from PIL import Image\n",
        "import os, shutil\n",
        "from os import listdir\n",
        "from PIL import Image\n",
        "\n",
        "# load and display an image with Matplotlib\n",
        "from matplotlib import image\n",
        "from matplotlib import pyplot\n",
        "\n",
        "# tensorflow\n",
        "import tensorflow as tf\n",
        "import keras\n",
        "from keras.models import Sequential\n",
        "from keras.layers import Dense, Conv2D, Flatten, Activation,MaxPooling2D,Dropout\n",
        "from tensorflow.keras.applications import ResNet152,InceptionV3\n",
        "\n",
        "from keras.callbacks import EarlyStopping\n",
        "from sklearn.metrics import f1_score\n",
        "\n",
        "\n"
      ],
      "execution_count": 2,
      "outputs": []
    },
    {
      "cell_type": "code",
      "metadata": {
        "id": "Tg4RTEudLW97",
        "outputId": "6e29067f-9e84-4716-d00d-5547e1c7edce",
        "colab": {
          "base_uri": "https://localhost:8080/"
        }
      },
      "source": [
        "from google.colab import drive\n",
        "drive.mount('/content/drive')"
      ],
      "execution_count": 3,
      "outputs": [
        {
          "output_type": "stream",
          "text": [
            "Mounted at /content/drive\n"
          ],
          "name": "stdout"
        }
      ]
    },
    {
      "cell_type": "markdown",
      "metadata": {
        "id": "6Iqws24zRdXh"
      },
      "source": [
        "# **Data Preprocessing** "
      ]
    },
    {
      "cell_type": "markdown",
      "metadata": {
        "id": "Csx6x5IHR-Uj"
      },
      "source": [
        "##### Method to convert 3D RGB image to 2D gray scale image"
      ]
    },
    {
      "cell_type": "code",
      "metadata": {
        "id": "ytw9f6VqMDwU"
      },
      "source": [
        "## Method to convert a 3D RGB image to 2D gray scale image\n",
        "def to_grayscale(arr):\n",
        "    \"If arr is a color image (3D array), convert it to grayscale (2D array).\"\n",
        "    if len(arr.shape) == 3:\n",
        "        return np.average(arr, -1)  # average over the last axis (color channels)\n",
        "    else:\n",
        "        return arr"
      ],
      "execution_count": 4,
      "outputs": []
    },
    {
      "cell_type": "markdown",
      "metadata": {
        "id": "z_fj3CmFSDDh"
      },
      "source": [
        "##### Method to load images and add to a numpy array"
      ]
    },
    {
      "cell_type": "code",
      "metadata": {
        "id": "NnFGFUHZMR0v"
      },
      "source": [
        "## Method to load images and add to a numpy array\n",
        "def load_images_to_np_array(images_dir):\n",
        "    images_dir = Path(images_dir).expanduser()\n",
        "    dim = (256, 256)\n",
        "    # Resizing all the images to same dimension\n",
        "    images = []\n",
        "    for fname in listdir(images_dir):\n",
        "        fpath = os.path.join(images_dir, fname)\n",
        "        im = Image.open(fpath)\n",
        "        im_resized = im.resize(dim)\n",
        "        images.append(im_resized)\n",
        "\n",
        "    ## Converting the image to numpy array\n",
        "    images_arr=[]\n",
        "    for x in range(len(images)):\n",
        "        image=np.array(images[x])\n",
        "        image = to_grayscale(image)\n",
        "        images_arr.append(image)\n",
        "    return images_arr"
      ],
      "execution_count": 5,
      "outputs": []
    },
    {
      "cell_type": "code",
      "metadata": {
        "id": "Bmi2G48wMR3L"
      },
      "source": [
        "orig_images_folders = [ 'drive/My Drive/data/orig/orig adidas', 'drive/My Drive/data/orig/orig puma', 'drive/My Drive/data/orig/orig nike']\n",
        "orig_image_data = []\n",
        "for folder in orig_images_folders:\n",
        "    orig_images_arr = load_images_to_np_array(folder)\n",
        "    for i in range(0,len(orig_images_arr)):\n",
        "        orig_image_data.append([orig_images_arr[i],'orig'])\n",
        "    "
      ],
      "execution_count": 6,
      "outputs": []
    },
    {
      "cell_type": "code",
      "metadata": {
        "id": "FNB0KJlOMR5e",
        "outputId": "5adb8971-f98f-47fb-9659-15b2bd60b214",
        "colab": {
          "base_uri": "https://localhost:8080/",
          "height": 106
        }
      },
      "source": [
        "# Converting Original Images list into pandas dataframe\n",
        "orig_df = pd.DataFrame(orig_image_data)\n",
        "orig_df = orig_df.rename(columns={0: 'Images',1:'Labels'}) #rename pandas dataframe column names\n",
        "orig_df.head(2)"
      ],
      "execution_count": 7,
      "outputs": [
        {
          "output_type": "execute_result",
          "data": {
            "text/html": [
              "<div>\n",
              "<style scoped>\n",
              "    .dataframe tbody tr th:only-of-type {\n",
              "        vertical-align: middle;\n",
              "    }\n",
              "\n",
              "    .dataframe tbody tr th {\n",
              "        vertical-align: top;\n",
              "    }\n",
              "\n",
              "    .dataframe thead th {\n",
              "        text-align: right;\n",
              "    }\n",
              "</style>\n",
              "<table border=\"1\" class=\"dataframe\">\n",
              "  <thead>\n",
              "    <tr style=\"text-align: right;\">\n",
              "      <th></th>\n",
              "      <th>Images</th>\n",
              "      <th>Labels</th>\n",
              "    </tr>\n",
              "  </thead>\n",
              "  <tbody>\n",
              "    <tr>\n",
              "      <th>0</th>\n",
              "      <td>[[0, 0, 0, 0, 0, 0, 0, 0, 0, 0, 0, 0, 0, 0, 0,...</td>\n",
              "      <td>orig</td>\n",
              "    </tr>\n",
              "    <tr>\n",
              "      <th>1</th>\n",
              "      <td>[[0, 0, 0, 0, 0, 0, 0, 0, 0, 0, 0, 0, 0, 0, 0,...</td>\n",
              "      <td>orig</td>\n",
              "    </tr>\n",
              "  </tbody>\n",
              "</table>\n",
              "</div>"
            ],
            "text/plain": [
              "                                              Images Labels\n",
              "0  [[0, 0, 0, 0, 0, 0, 0, 0, 0, 0, 0, 0, 0, 0, 0,...   orig\n",
              "1  [[0, 0, 0, 0, 0, 0, 0, 0, 0, 0, 0, 0, 0, 0, 0,...   orig"
            ]
          },
          "metadata": {
            "tags": []
          },
          "execution_count": 7
        }
      ]
    },
    {
      "cell_type": "code",
      "metadata": {
        "id": "Wqdfzb0SMR8S"
      },
      "source": [
        "fake_images_folders = ['drive/My Drive/data/fake/fake adidas', 'drive/My Drive/data/fake/fake puma', 'drive/My Drive/data/fake/fake nike']\n",
        "fake_image_data = []\n",
        "for folder in fake_images_folders:\n",
        "    fake_images_arr = load_images_to_np_array(folder)\n",
        "    for i in range(0,len(fake_images_arr)):\n",
        "        fake_image_data.append([fake_images_arr[i],'fake'])"
      ],
      "execution_count": 8,
      "outputs": []
    },
    {
      "cell_type": "code",
      "metadata": {
        "id": "5EpLobdWMR_J",
        "outputId": "815c4729-e2df-4bd4-c35c-12adfbd8f155",
        "colab": {
          "base_uri": "https://localhost:8080/",
          "height": 106
        }
      },
      "source": [
        "# Converting Fake Images list into pandas dataframe\n",
        "fake_df = pd.DataFrame(fake_image_data)\n",
        "fake_df = fake_df.rename(columns={0: 'Images',1:'Labels'}) #rename pandas dataframe column names\n",
        "fake_df.head(2)"
      ],
      "execution_count": 9,
      "outputs": [
        {
          "output_type": "execute_result",
          "data": {
            "text/html": [
              "<div>\n",
              "<style scoped>\n",
              "    .dataframe tbody tr th:only-of-type {\n",
              "        vertical-align: middle;\n",
              "    }\n",
              "\n",
              "    .dataframe tbody tr th {\n",
              "        vertical-align: top;\n",
              "    }\n",
              "\n",
              "    .dataframe thead th {\n",
              "        text-align: right;\n",
              "    }\n",
              "</style>\n",
              "<table border=\"1\" class=\"dataframe\">\n",
              "  <thead>\n",
              "    <tr style=\"text-align: right;\">\n",
              "      <th></th>\n",
              "      <th>Images</th>\n",
              "      <th>Labels</th>\n",
              "    </tr>\n",
              "  </thead>\n",
              "  <tbody>\n",
              "    <tr>\n",
              "      <th>0</th>\n",
              "      <td>[[0, 0, 0, 0, 0, 0, 0, 0, 0, 0, 0, 0, 0, 0, 0,...</td>\n",
              "      <td>fake</td>\n",
              "    </tr>\n",
              "    <tr>\n",
              "      <th>1</th>\n",
              "      <td>[[0, 0, 0, 0, 0, 0, 0, 0, 0, 0, 0, 0, 0, 0, 0,...</td>\n",
              "      <td>fake</td>\n",
              "    </tr>\n",
              "  </tbody>\n",
              "</table>\n",
              "</div>"
            ],
            "text/plain": [
              "                                              Images Labels\n",
              "0  [[0, 0, 0, 0, 0, 0, 0, 0, 0, 0, 0, 0, 0, 0, 0,...   fake\n",
              "1  [[0, 0, 0, 0, 0, 0, 0, 0, 0, 0, 0, 0, 0, 0, 0,...   fake"
            ]
          },
          "metadata": {
            "tags": []
          },
          "execution_count": 9
        }
      ]
    },
    {
      "cell_type": "code",
      "metadata": {
        "id": "gGs6Vok3O91_",
        "outputId": "f3a54891-3ee8-4186-bb1b-47bb80232fd8",
        "colab": {
          "base_uri": "https://localhost:8080/"
        }
      },
      "source": [
        "## Merging original and fake images dataframes\n",
        "frames = [orig_df, fake_df]\n",
        "data = pd.concat(frames)\n",
        "data.reset_index(inplace=True)\n",
        "print(data.shape)"
      ],
      "execution_count": 10,
      "outputs": [
        {
          "output_type": "stream",
          "text": [
            "(1631, 3)\n"
          ],
          "name": "stdout"
        }
      ]
    },
    {
      "cell_type": "code",
      "metadata": {
        "id": "Dklf_sl8O-Be",
        "outputId": "f42cabd8-ef00-42ff-eba6-4ae4b3285887",
        "colab": {
          "base_uri": "https://localhost:8080/"
        }
      },
      "source": [
        "X, y = data[\"Images\"], data[\"Labels\"]\n",
        "print(type(X), type(y))"
      ],
      "execution_count": 11,
      "outputs": [
        {
          "output_type": "stream",
          "text": [
            "<class 'pandas.core.series.Series'> <class 'pandas.core.series.Series'>\n"
          ],
          "name": "stdout"
        }
      ]
    },
    {
      "cell_type": "code",
      "metadata": {
        "id": "ZPbq710fO-D5",
        "outputId": "c7b5906d-8b27-4191-d94b-7bdbc2c04bb7",
        "colab": {
          "base_uri": "https://localhost:8080/"
        }
      },
      "source": [
        "# Creating Test Set by startified split test size \"20%\"\n",
        "from sklearn.model_selection import StratifiedShuffleSplit\n",
        "split = StratifiedShuffleSplit(n_splits=5,test_size = 0.2,random_state = 42)\n",
        "print(split)\n",
        "for train_index,test_index in split.split(data,data[\"Labels\"]):\n",
        "    train_set = data.iloc[train_index]\n",
        "    test_set = data.iloc[test_index]"
      ],
      "execution_count": 12,
      "outputs": [
        {
          "output_type": "stream",
          "text": [
            "StratifiedShuffleSplit(n_splits=5, random_state=42, test_size=0.2,\n",
            "            train_size=None)\n"
          ],
          "name": "stdout"
        }
      ]
    },
    {
      "cell_type": "code",
      "metadata": {
        "id": "PyQNYYV0Pn7q",
        "outputId": "795f0064-0c4f-4de4-fe03-da2e400b477e",
        "colab": {
          "base_uri": "https://localhost:8080/"
        }
      },
      "source": [
        "##Creating Validation Set by startified split test size \"20%\"\n",
        "from sklearn.model_selection import train_test_split\n",
        "X_train_data,X_val_data,y_train_data,y_val_data = train_test_split(train_set[\"Images\"],train_set[\"Labels\"],test_size=0.2,random_state=42)\n",
        "X_test_data = test_set[\"Images\"]\n",
        "y_test_data = test_set[\"Labels\"]\n",
        "print(X_train_data.shape,X_val_data.shape, X_test_data.shape,y_train_data.shape,y_val_data.shape, y_test_data.shape)\n"
      ],
      "execution_count": 13,
      "outputs": [
        {
          "output_type": "stream",
          "text": [
            "(1043,) (261,) (327,) (1043,) (261,) (327,)\n"
          ],
          "name": "stdout"
        }
      ]
    },
    {
      "cell_type": "markdown",
      "metadata": {
        "id": "_1J5ZlfTSKRt"
      },
      "source": [
        "##### Method to convert labels to binary format"
      ]
    },
    {
      "cell_type": "code",
      "metadata": {
        "id": "t22oYhJ6O-NZ"
      },
      "source": [
        "## Method to convert labels to binary format\n",
        "def convert_labels_to_binary(data):\n",
        "    data_new = [0]*len(data)\n",
        "    for i in range(0,len(data)):\n",
        "        if data.iloc[i] == 'orig':\n",
        "            data_new[i] = 1\n",
        "        else:\n",
        "            data_new[i] = 0\n",
        "    return np.array(data_new)"
      ],
      "execution_count": 14,
      "outputs": []
    },
    {
      "cell_type": "code",
      "metadata": {
        "id": "PgH67VADO-SB"
      },
      "source": [
        "## Converting labels 'orig' and 'fake' to binary 1,0 in all train val and test datasets\n",
        "y_train = convert_labels_to_binary(y_train_data)\n",
        "y_val = convert_labels_to_binary(y_val_data)\n",
        "y_test = convert_labels_to_binary(y_test_data)"
      ],
      "execution_count": 15,
      "outputs": []
    },
    {
      "cell_type": "code",
      "metadata": {
        "id": "uXi6tVtnO-VO"
      },
      "source": [
        "#converting each 3d image in a list into 4D tensor array as we need for input to CNN\n",
        "X_train_new =[0] * len(X_train_data) \n",
        "for i in range(0,len(X_train_data)):\n",
        "    X_train_new[i] = np.reshape((X_train_data.iloc[i]),(256,256,1))\n",
        "\n",
        "X_train = np.asarray(X_train_new)\n",
        "\n",
        "X_val_new=[0] * len(X_val_data)\n",
        "for i in range(0,len(X_val_data)):\n",
        "    X_val_new[i] = np.reshape((X_val_data.iloc[i]),(256,256,1))\n",
        "    \n",
        "X_val = np.asarray(X_val_new)\n",
        "\n",
        "\n",
        "X_test_list =[0] * len(X_test_data) \n",
        "for i in range(0,len(X_test_data)):\n",
        "    X_test_list[i] = np.reshape((X_test_data.iloc[i]),(256,256,1))\n",
        "\n",
        "X_test = np.asarray(X_test_list)\n",
        "\n",
        "\n",
        "# normalising image / scaling down x values from 1-255 to 0-1 scale\n",
        "X_train = X_train.astype('float32')\n",
        "X_train /= 255\n",
        "\n",
        "X_val = X_val.astype('float32')\n",
        "X_val /= 255\n",
        "\n",
        "X_test = X_test.astype('float32')\n",
        "X_test /= 255\n"
      ],
      "execution_count": 16,
      "outputs": []
    },
    {
      "cell_type": "markdown",
      "metadata": {
        "id": "yZc1SSNMSOls"
      },
      "source": [
        "## **Model building**"
      ]
    },
    {
      "cell_type": "code",
      "metadata": {
        "id": "422Hay0-O-QF"
      },
      "source": [
        "np.random.seed(42)"
      ],
      "execution_count": 17,
      "outputs": []
    },
    {
      "cell_type": "code",
      "metadata": {
        "id": "5ikuKXvcO-LG"
      },
      "source": [
        "model = Sequential()\n",
        "# model = InceptionV3(weights='imagenet', include_top=True)\n",
        "#add model layers\n",
        "model.add(Conv2D(50, kernel_size = (3,3),strides=(1,1), padding='same', activation='relu', input_shape=(256,256,1)))\n",
        "# model.add(Conv2D(64, kernel_size = (3,3),strides=(1,1), padding='same', activation='relu'))\n",
        "model.add(MaxPooling2D(pool_size=(2, 2)))\n",
        "# model.add(Dropout(0.2))\n",
        "# model.add(Conv2D(50, kernel_size = (3,3),strides=(1,1), padding='same', activation='relu'))\n",
        "model.add(MaxPooling2D(pool_size=(2, 2)))\n",
        "model.add(Dropout(0.2))\n",
        "model.add(keras.layers.GaussianNoise(0.1))\n",
        "# model.add(Conv2D(50, kernel_size = (3,3),strides=(1,1), padding='same', activation='relu'))\n",
        "model.add(Flatten())\n",
        "model.add(Dense(200, activation ='relu'))\n",
        "# model.add(Dropout(0.2))\n",
        "model.add(Dense(300, activation ='relu'))\n",
        "model.add(Dense(300, activation ='relu'))\n",
        "# model.add(Dense(200, activation ='relu'))\n",
        "# model.add(Dropout(0.2))\n",
        "model.add(Dense(1, activation='sigmoid'))"
      ],
      "execution_count": 42,
      "outputs": []
    },
    {
      "cell_type": "code",
      "metadata": {
        "id": "YRcK6bFdVV_H"
      },
      "source": [
        "# model = Sequential()\n",
        "# #add model layers\n",
        "# model.add(Conv2D(50, kernel_size = (3,3), padding='same', activation='relu', input_shape=(256,256,1)))\n",
        "# model.add(Conv2D(50, kernel_size = (3,3), padding='same', activation='relu'))\n",
        "# model.add(Dense(100, activation ='relu'))\n",
        "# model.add(Dense(100, activation ='relu'))\n",
        "# model.add(Dense(1, activation='sigmoid'))"
      ],
      "execution_count": 19,
      "outputs": []
    },
    {
      "cell_type": "code",
      "metadata": {
        "id": "yZZpf7bmO-I7"
      },
      "source": [
        "# Compile model\n",
        "optim = keras.optimizers.SGD(learning_rate=0.05)\n",
        "model.compile(loss='binary_crossentropy', optimizer=optim, metrics=['accuracy'])"
      ],
      "execution_count": 43,
      "outputs": []
    },
    {
      "cell_type": "code",
      "metadata": {
        "id": "St7weMx3O-H1",
        "outputId": "d14a6f28-4fba-4999-9fd0-a2a55e3b1d62",
        "colab": {
          "base_uri": "https://localhost:8080/"
        }
      },
      "source": [
        "##Early stopping\n",
        "earlystop = EarlyStopping(monitor='val_loss', patience=10, verbose=1, mode='auto')\n",
        "##\n",
        "##earlystop = EarlyStopping(monitor='val_accuracy', patience=10, verbose=1, mode='auto')\n",
        "callback = [earlystop]\n",
        "\n",
        "#fitting model\n",
        "history =model.fit(X_train, y_train,\n",
        "              batch_size=150,\n",
        "              epochs=50,\n",
        "              validation_data=(X_val, y_val),\n",
        "              shuffle=True, callbacks=callback)"
      ],
      "execution_count": 45,
      "outputs": [
        {
          "output_type": "stream",
          "text": [
            "Epoch 1/50\n",
            "7/7 [==============================] - 1s 213ms/step - loss: 0.4910 - accuracy: 0.7641 - val_loss: 0.4850 - val_accuracy: 0.7663\n",
            "Epoch 2/50\n",
            "7/7 [==============================] - 1s 209ms/step - loss: 0.4251 - accuracy: 0.8025 - val_loss: 0.5060 - val_accuracy: 0.8046\n",
            "Epoch 3/50\n",
            "7/7 [==============================] - 1s 211ms/step - loss: 0.5375 - accuracy: 0.7383 - val_loss: 0.4769 - val_accuracy: 0.7893\n",
            "Epoch 4/50\n",
            "7/7 [==============================] - 1s 208ms/step - loss: 0.4278 - accuracy: 0.8073 - val_loss: 0.6511 - val_accuracy: 0.7816\n",
            "Epoch 5/50\n",
            "7/7 [==============================] - 1s 208ms/step - loss: 0.4562 - accuracy: 0.7843 - val_loss: 0.4376 - val_accuracy: 0.8008\n",
            "Epoch 6/50\n",
            "7/7 [==============================] - 1s 208ms/step - loss: 0.4255 - accuracy: 0.8121 - val_loss: 0.4323 - val_accuracy: 0.7893\n",
            "Epoch 7/50\n",
            "7/7 [==============================] - 1s 210ms/step - loss: 0.3816 - accuracy: 0.8284 - val_loss: 0.4346 - val_accuracy: 0.8352\n",
            "Epoch 8/50\n",
            "7/7 [==============================] - 1s 211ms/step - loss: 0.5150 - accuracy: 0.7565 - val_loss: 0.4360 - val_accuracy: 0.7931\n",
            "Epoch 9/50\n",
            "7/7 [==============================] - 1s 210ms/step - loss: 0.3764 - accuracy: 0.8274 - val_loss: 0.4188 - val_accuracy: 0.8314\n",
            "Epoch 10/50\n",
            "7/7 [==============================] - 1s 210ms/step - loss: 0.4851 - accuracy: 0.7517 - val_loss: 0.4247 - val_accuracy: 0.7931\n",
            "Epoch 11/50\n",
            "7/7 [==============================] - 1s 209ms/step - loss: 0.3698 - accuracy: 0.8255 - val_loss: 0.4060 - val_accuracy: 0.8276\n",
            "Epoch 12/50\n",
            "7/7 [==============================] - 1s 211ms/step - loss: 0.3753 - accuracy: 0.8351 - val_loss: 0.3795 - val_accuracy: 0.8467\n",
            "Epoch 13/50\n",
            "7/7 [==============================] - 1s 209ms/step - loss: 0.4183 - accuracy: 0.7996 - val_loss: 0.5665 - val_accuracy: 0.7510\n",
            "Epoch 14/50\n",
            "7/7 [==============================] - 1s 207ms/step - loss: 0.3934 - accuracy: 0.8217 - val_loss: 0.3808 - val_accuracy: 0.8276\n",
            "Epoch 15/50\n",
            "7/7 [==============================] - 1s 213ms/step - loss: 0.3785 - accuracy: 0.8255 - val_loss: 0.3839 - val_accuracy: 0.8199\n",
            "Epoch 16/50\n",
            "7/7 [==============================] - 1s 212ms/step - loss: 0.3373 - accuracy: 0.8523 - val_loss: 0.7775 - val_accuracy: 0.7739\n",
            "Epoch 17/50\n",
            "7/7 [==============================] - 1s 210ms/step - loss: 0.3795 - accuracy: 0.8389 - val_loss: 0.3506 - val_accuracy: 0.8736\n",
            "Epoch 18/50\n",
            "7/7 [==============================] - 1s 207ms/step - loss: 0.3423 - accuracy: 0.8485 - val_loss: 0.4740 - val_accuracy: 0.7739\n",
            "Epoch 19/50\n",
            "7/7 [==============================] - 1s 211ms/step - loss: 0.3181 - accuracy: 0.8811 - val_loss: 0.3196 - val_accuracy: 0.8659\n",
            "Epoch 20/50\n",
            "7/7 [==============================] - 1s 210ms/step - loss: 0.2924 - accuracy: 0.8677 - val_loss: 1.0162 - val_accuracy: 0.5862\n",
            "Epoch 21/50\n",
            "7/7 [==============================] - 1s 210ms/step - loss: 0.4518 - accuracy: 0.7795 - val_loss: 0.4248 - val_accuracy: 0.8123\n",
            "Epoch 22/50\n",
            "7/7 [==============================] - 1s 212ms/step - loss: 0.3320 - accuracy: 0.8476 - val_loss: 0.3056 - val_accuracy: 0.8889\n",
            "Epoch 23/50\n",
            "7/7 [==============================] - 1s 214ms/step - loss: 0.2432 - accuracy: 0.8965 - val_loss: 0.4216 - val_accuracy: 0.7280\n",
            "Epoch 24/50\n",
            "7/7 [==============================] - 1s 210ms/step - loss: 0.3332 - accuracy: 0.8485 - val_loss: 0.2733 - val_accuracy: 0.8927\n",
            "Epoch 25/50\n",
            "7/7 [==============================] - 1s 211ms/step - loss: 0.2237 - accuracy: 0.9051 - val_loss: 0.2708 - val_accuracy: 0.8927\n",
            "Epoch 26/50\n",
            "7/7 [==============================] - 1s 212ms/step - loss: 0.2130 - accuracy: 0.9156 - val_loss: 0.4547 - val_accuracy: 0.8467\n",
            "Epoch 27/50\n",
            "7/7 [==============================] - 1s 209ms/step - loss: 0.2338 - accuracy: 0.9041 - val_loss: 0.2453 - val_accuracy: 0.8966\n",
            "Epoch 28/50\n",
            "7/7 [==============================] - 1s 212ms/step - loss: 0.1818 - accuracy: 0.9156 - val_loss: 0.2505 - val_accuracy: 0.9310\n",
            "Epoch 29/50\n",
            "7/7 [==============================] - 1s 209ms/step - loss: 0.1829 - accuracy: 0.9252 - val_loss: 0.3122 - val_accuracy: 0.8582\n",
            "Epoch 30/50\n",
            "7/7 [==============================] - 1s 211ms/step - loss: 0.1903 - accuracy: 0.9128 - val_loss: 0.2177 - val_accuracy: 0.9195\n",
            "Epoch 31/50\n",
            "7/7 [==============================] - 1s 213ms/step - loss: 0.1512 - accuracy: 0.9377 - val_loss: 0.2102 - val_accuracy: 0.9349\n",
            "Epoch 32/50\n",
            "7/7 [==============================] - 1s 210ms/step - loss: 0.2851 - accuracy: 0.8639 - val_loss: 0.6817 - val_accuracy: 0.8276\n",
            "Epoch 33/50\n",
            "7/7 [==============================] - 1s 209ms/step - loss: 0.3878 - accuracy: 0.8245 - val_loss: 0.2379 - val_accuracy: 0.8966\n",
            "Epoch 34/50\n",
            "7/7 [==============================] - 1s 210ms/step - loss: 0.2032 - accuracy: 0.9195 - val_loss: 0.1820 - val_accuracy: 0.9349\n",
            "Epoch 35/50\n",
            "7/7 [==============================] - 1s 210ms/step - loss: 0.1559 - accuracy: 0.9329 - val_loss: 0.1967 - val_accuracy: 0.9119\n",
            "Epoch 36/50\n",
            "7/7 [==============================] - 1s 212ms/step - loss: 0.3207 - accuracy: 0.8514 - val_loss: 0.2215 - val_accuracy: 0.9579\n",
            "Epoch 37/50\n",
            "7/7 [==============================] - 1s 209ms/step - loss: 0.2002 - accuracy: 0.9195 - val_loss: 0.1812 - val_accuracy: 0.9349\n",
            "Epoch 38/50\n",
            "7/7 [==============================] - 1s 210ms/step - loss: 0.1509 - accuracy: 0.9473 - val_loss: 0.1446 - val_accuracy: 0.9349\n",
            "Epoch 39/50\n",
            "7/7 [==============================] - 1s 210ms/step - loss: 0.1956 - accuracy: 0.9137 - val_loss: 0.3090 - val_accuracy: 0.8812\n",
            "Epoch 40/50\n",
            "7/7 [==============================] - 1s 209ms/step - loss: 0.1826 - accuracy: 0.9204 - val_loss: 0.1393 - val_accuracy: 0.9732\n",
            "Epoch 41/50\n",
            "7/7 [==============================] - 1s 212ms/step - loss: 0.1234 - accuracy: 0.9597 - val_loss: 0.1181 - val_accuracy: 0.9464\n",
            "Epoch 42/50\n",
            "7/7 [==============================] - 1s 209ms/step - loss: 0.1238 - accuracy: 0.9501 - val_loss: 0.1295 - val_accuracy: 0.9310\n",
            "Epoch 43/50\n",
            "7/7 [==============================] - 1s 212ms/step - loss: 0.1160 - accuracy: 0.9501 - val_loss: 0.1260 - val_accuracy: 0.9732\n",
            "Epoch 44/50\n",
            "7/7 [==============================] - 1s 209ms/step - loss: 0.1133 - accuracy: 0.9482 - val_loss: 0.1341 - val_accuracy: 0.9732\n",
            "Epoch 45/50\n",
            "7/7 [==============================] - 1s 211ms/step - loss: 0.0950 - accuracy: 0.9703 - val_loss: 0.1369 - val_accuracy: 0.9732\n",
            "Epoch 46/50\n",
            "7/7 [==============================] - 1s 210ms/step - loss: 0.0903 - accuracy: 0.9655 - val_loss: 0.1462 - val_accuracy: 0.9655\n",
            "Epoch 47/50\n",
            "7/7 [==============================] - 1s 208ms/step - loss: 0.0908 - accuracy: 0.9645 - val_loss: 0.2374 - val_accuracy: 0.9540\n",
            "Epoch 48/50\n",
            "7/7 [==============================] - 1s 209ms/step - loss: 0.1027 - accuracy: 0.9501 - val_loss: 0.1423 - val_accuracy: 0.9808\n",
            "Epoch 49/50\n",
            "7/7 [==============================] - 1s 209ms/step - loss: 0.0761 - accuracy: 0.9751 - val_loss: 0.1207 - val_accuracy: 0.9732\n",
            "Epoch 50/50\n",
            "7/7 [==============================] - 1s 208ms/step - loss: 0.0749 - accuracy: 0.9693 - val_loss: 0.1377 - val_accuracy: 0.9808\n"
          ],
          "name": "stdout"
        }
      ]
    },
    {
      "cell_type": "code",
      "metadata": {
        "id": "wB4MkT1wPuPh",
        "outputId": "e627b2bc-c5e3-4f55-d3fa-5a273cb516ff",
        "colab": {
          "base_uri": "https://localhost:8080/"
        }
      },
      "source": [
        "model.summary()"
      ],
      "execution_count": 22,
      "outputs": [
        {
          "output_type": "stream",
          "text": [
            "Model: \"sequential\"\n",
            "_________________________________________________________________\n",
            "Layer (type)                 Output Shape              Param #   \n",
            "=================================================================\n",
            "conv2d (Conv2D)              (None, 256, 256, 50)      500       \n",
            "_________________________________________________________________\n",
            "conv2d_1 (Conv2D)            (None, 256, 256, 64)      28864     \n",
            "_________________________________________________________________\n",
            "max_pooling2d (MaxPooling2D) (None, 128, 128, 64)      0         \n",
            "_________________________________________________________________\n",
            "max_pooling2d_1 (MaxPooling2 (None, 64, 64, 64)        0         \n",
            "_________________________________________________________________\n",
            "dropout (Dropout)            (None, 64, 64, 64)        0         \n",
            "_________________________________________________________________\n",
            "gaussian_noise (GaussianNois (None, 64, 64, 64)        0         \n",
            "_________________________________________________________________\n",
            "flatten (Flatten)            (None, 262144)            0         \n",
            "_________________________________________________________________\n",
            "dense (Dense)                (None, 200)               52429000  \n",
            "_________________________________________________________________\n",
            "dense_1 (Dense)              (None, 300)               60300     \n",
            "_________________________________________________________________\n",
            "dense_2 (Dense)              (None, 300)               90300     \n",
            "_________________________________________________________________\n",
            "dense_3 (Dense)              (None, 1)                 301       \n",
            "=================================================================\n",
            "Total params: 52,609,265\n",
            "Trainable params: 52,609,265\n",
            "Non-trainable params: 0\n",
            "_________________________________________________________________\n"
          ],
          "name": "stdout"
        }
      ]
    },
    {
      "cell_type": "code",
      "metadata": {
        "id": "6ViUa20CPual",
        "outputId": "f92bd27a-d7b8-4e61-9199-65eeeb41ba56",
        "colab": {
          "base_uri": "https://localhost:8080/"
        }
      },
      "source": [
        "#Evaluating model\n",
        "scores = model.evaluate(X_test, y_test, verbose=1)\n",
        "print('Test loss:', scores[0])\n",
        "print('Test accuracy:', scores[1])"
      ],
      "execution_count": 46,
      "outputs": [
        {
          "output_type": "stream",
          "text": [
            "11/11 [==============================] - 0s 19ms/step - loss: 0.0565 - accuracy: 0.9939\n",
            "Test loss: 0.0565292052924633\n",
            "Test accuracy: 0.9938837885856628\n"
          ],
          "name": "stdout"
        }
      ]
    },
    {
      "cell_type": "code",
      "metadata": {
        "id": "q9qrC6G1PufJ",
        "outputId": "8fc4e865-f531-45fe-dac6-04f7f558a160",
        "colab": {
          "base_uri": "https://localhost:8080/"
        }
      },
      "source": [
        "from sklearn.metrics import confusion_matrix\n",
        "predictions=(model.predict(X_test) > 0.5).astype(\"int32\")\n",
        "#Confusion matrix\n",
        "confusion_matrix(y_test, predictions)"
      ],
      "execution_count": 47,
      "outputs": [
        {
          "output_type": "execute_result",
          "data": {
            "text/plain": [
              "array([[158,   0],\n",
              "       [  2, 167]])"
            ]
          },
          "metadata": {
            "tags": []
          },
          "execution_count": 47
        }
      ]
    },
    {
      "cell_type": "code",
      "metadata": {
        "id": "Ilez5qBtPujG",
        "outputId": "ae64b27f-9d49-4273-c251-3c7cc2866d31",
        "colab": {
          "base_uri": "https://localhost:8080/"
        }
      },
      "source": [
        "y_test_pred = (model.predict(X_test) > 0.5).astype(\"int32\")\n",
        "#F1 Score\n",
        "print(f1_score(y_test, y_test_pred, average='weighted'))"
      ],
      "execution_count": 48,
      "outputs": [
        {
          "output_type": "stream",
          "text": [
            "0.9938848224074122\n"
          ],
          "name": "stdout"
        }
      ]
    },
    {
      "cell_type": "code",
      "metadata": {
        "id": "ZjrTAsfIPud_",
        "outputId": "2f4e521e-e02b-47db-be75-77d2dbc10fa1",
        "colab": {
          "base_uri": "https://localhost:8080/",
          "height": 324
        }
      },
      "source": [
        "\n",
        "import matplotlib.pyplot as plt\n",
        "pd.DataFrame(history.history).plot(figsize=(10, 5))\n",
        "plt.grid(True)\n",
        "plt.gca().set_ylim(0, 1) # set the vertical range to [0-1]\n",
        "plt.show()"
      ],
      "execution_count": 49,
      "outputs": [
        {
          "output_type": "display_data",
          "data": {
            "image/png": "[encoded data removed]",
            "text/plain": [
              "<Figure size 720x360 with 1 Axes>"
            ]
          },
          "metadata": {
            "tags": [],
            "needs_background": "light"
          }
        }
      ]
    },
    {
      "cell_type": "code",
      "metadata": {
        "id": "e9KymaDIPuYZ",
        "outputId": "996bc44e-fec2-46d0-9702-de1036934597",
        "colab": {
          "base_uri": "https://localhost:8080/",
          "height": 573
        }
      },
      "source": [
        "\n",
        "#Learning curves\n",
        "plt.plot(history.history['accuracy'])\n",
        "plt.plot(history.history['val_accuracy'])\n",
        "plt.title('Model accuracy')\n",
        "plt.ylabel('Accuracy')\n",
        "plt.xlabel('Epoch')\n",
        "plt.legend(['Train', 'Val'], loc='upper left')\n",
        "plt.show()\n",
        "\n",
        "# Plot training & validation loss values\n",
        "plt.plot(history.history['loss'])\n",
        "plt.plot(history.history['val_loss'])\n",
        "plt.title('Model loss')\n",
        "plt.ylabel('Loss')\n",
        "plt.xlabel('Epoch')\n",
        "plt.legend(['Train', 'Val'], loc='upper left')\n",
        "plt.show()"
      ],
      "execution_count": 50,
      "outputs": [
        {
          "output_type": "display_data",
          "data": {
            "image/png": "[encoded data removed]",
            "text/plain": [
              "<Figure size 432x288 with 1 Axes>"
            ]
          },
          "metadata": {
            "tags": [],
            "needs_background": "light"
          }
        },
        {
          "output_type": "display_data",
          "data": {
            "image/png": "[encoded data removed]",
            "text/plain": [
              "<Figure size 432x288 with 1 Axes>"
            ]
          },
          "metadata": {
            "tags": [],
            "needs_background": "light"
          }
        }
      ]
    },
    {
      "cell_type": "code",
      "metadata": {
        "id": "dfcPymboPuWn"
      },
      "source": [
        ""
      ],
      "execution_count": 27,
      "outputs": []
    },
    {
      "cell_type": "code",
      "metadata": {
        "id": "zd9KZwJyPuUF"
      },
      "source": [
        ""
      ],
      "execution_count": 27,
      "outputs": []
    },
    {
      "cell_type": "code",
      "metadata": {
        "id": "HkQkWCgNPuSH"
      },
      "source": [
        ""
      ],
      "execution_count": 27,
      "outputs": []
    }
  ]
}